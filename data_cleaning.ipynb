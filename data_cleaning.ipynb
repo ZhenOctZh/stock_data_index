{
 "cells": [
  {
   "cell_type": "code",
   "execution_count": 1,
   "id": "5b05c29b-d07a-4960-995e-5c7ab47fe178",
   "metadata": {},
   "outputs": [],
   "source": [
    "import pandas as pd\n",
    "import numpy as np"
   ]
  },
  {
   "cell_type": "code",
   "execution_count": 2,
   "id": "7ad4e0d8-6c81-46b8-99e0-ca4c381a9bd0",
   "metadata": {},
   "outputs": [],
   "source": [
    "df_hsi = pd.read_csv(\"raw/HSI_20000101-20220107.csv\")"
   ]
  },
  {
   "cell_type": "code",
   "execution_count": 4,
   "id": "e5287369-ad81-4e9d-a027-7e07b2f4a1a5",
   "metadata": {},
   "outputs": [],
   "source": [
    "df_hsi = df_hsi.dropna()"
   ]
  },
  {
   "cell_type": "code",
   "execution_count": 19,
   "id": "f7ef44aa-7a83-450b-8032-8f79fa1c1bb9",
   "metadata": {},
   "outputs": [],
   "source": [
    "df_hsi = df_hsi[df_hsi.Volume != 0]"
   ]
  },
  {
   "cell_type": "code",
   "execution_count": 21,
   "id": "e492065c-2e34-4bfb-99ad-c4e8db448aac",
   "metadata": {},
   "outputs": [],
   "source": [
    "df_hsi.to_csv(\"processed/HSI.csv\", index = False)"
   ]
  },
  {
   "cell_type": "code",
   "execution_count": null,
   "id": "fcdc857a-6924-4faf-b684-669c1cf3935a",
   "metadata": {},
   "outputs": [],
   "source": []
  },
  {
   "cell_type": "code",
   "execution_count": 6,
   "id": "c2275bdf-f5f4-4b67-aa00-46929f5a3a61",
   "metadata": {},
   "outputs": [],
   "source": [
    "df_spx = pd.read_csv(\"raw/SPX_20000101-20220216.csv\")"
   ]
  },
  {
   "cell_type": "code",
   "execution_count": 9,
   "id": "f0765d15-842d-4860-9435-2d7130e399ee",
   "metadata": {},
   "outputs": [],
   "source": [
    "df_spx = df_spx.dropna()"
   ]
  },
  {
   "cell_type": "code",
   "execution_count": 22,
   "id": "fe6d8dad-4285-4a89-8fd2-f29ef32938e0",
   "metadata": {},
   "outputs": [],
   "source": [
    "df_spx.to_csv(\"processed/SPX.csv\", index = False)"
   ]
  },
  {
   "cell_type": "code",
   "execution_count": null,
   "id": "5fb237a1-27cc-47a4-9858-98bfb90b9eab",
   "metadata": {},
   "outputs": [],
   "source": []
  },
  {
   "cell_type": "code",
   "execution_count": 8,
   "id": "cc236dee-20a1-47ca-9e5f-80fba8cad333",
   "metadata": {},
   "outputs": [],
   "source": [
    "df_ss = pd.read_csv(\"raw/SS_20000101-20220216.csv\")"
   ]
  },
  {
   "cell_type": "code",
   "execution_count": 10,
   "id": "a273f844-5144-49a8-a253-f0b9fc879d91",
   "metadata": {},
   "outputs": [],
   "source": [
    "df_ss = df_ss.dropna()"
   ]
  },
  {
   "cell_type": "code",
   "execution_count": 15,
   "id": "6173b884-2eab-4630-9bd7-f07274bcf6ce",
   "metadata": {},
   "outputs": [],
   "source": [
    "df_ss = df_ss[df_ss.Volume != 0]"
   ]
  },
  {
   "cell_type": "code",
   "execution_count": 23,
   "id": "5b4ae33e-6fd7-44d4-acd8-e46f8e3d488d",
   "metadata": {},
   "outputs": [],
   "source": [
    "df_ss.to_csv(\"processed/SS.csv\", index = False)"
   ]
  },
  {
   "cell_type": "code",
   "execution_count": null,
   "id": "721e2a7b-ebfa-4511-a65d-78d5fc699ec5",
   "metadata": {},
   "outputs": [],
   "source": []
  }
 ],
 "metadata": {
  "kernelspec": {
   "display_name": "Python 3",
   "language": "python",
   "name": "python3"
  },
  "language_info": {
   "codemirror_mode": {
    "name": "ipython",
    "version": 3
   },
   "file_extension": ".py",
   "mimetype": "text/x-python",
   "name": "python",
   "nbconvert_exporter": "python",
   "pygments_lexer": "ipython3",
   "version": "3.8.12"
  }
 },
 "nbformat": 4,
 "nbformat_minor": 5
}
